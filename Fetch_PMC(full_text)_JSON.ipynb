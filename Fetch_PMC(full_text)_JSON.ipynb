{
  "nbformat": 4,
  "nbformat_minor": 0,
  "metadata": {
    "colab": {
      "provenance": []
    },
    "kernelspec": {
      "name": "python3",
      "display_name": "Python 3"
    },
    "language_info": {
      "name": "python"
    }
  },
  "cells": [
    {
      "cell_type": "code",
      "execution_count": null,
      "metadata": {
        "id": "wscPuzmCjBWX"
      },
      "outputs": [],
      "source": [
        "import requests\n",
        "\n",
        "def fetch_json(pubmed_id):\n",
        "    json_url = f\"https://www.ncbi.nlm.nih.gov/research/bionlp/RESTful/pmcoa.cgi/BioC_json/{pubmed_id}/unicode\"\n",
        "    response = requests.get(json_url)\n",
        "    response.raise_for_status()  # Ensure we raise an error for bad status\n",
        "    return response.json()\n",
        "\n",
        "# Fetch data\n",
        "data = fetch_json(37541199)\n",
        "\n",
        "# Extract text from passages excluding section_type='REF'\n",
        "article_text = []\n",
        "for document in data[0]['documents']:\n",
        "    for passage in document['passages']:\n",
        "        if passage['infons'].get('section_type') != 'REF':\n",
        "            article_text.append(passage['text'])\n",
        "\n",
        "# Join the extracted text\n",
        "full_text = \"\\n\\n\".join(article_text)\n",
        "\n",
        "# Print the result\n",
        "print(full_text)\n"
      ]
    }
  ]
}